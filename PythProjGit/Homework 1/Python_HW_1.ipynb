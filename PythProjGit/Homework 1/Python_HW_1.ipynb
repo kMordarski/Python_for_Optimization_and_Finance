{
 "cells": [
  {
   "cell_type": "code",
   "execution_count": 1,
   "id": "1bd268d1",
   "metadata": {},
   "outputs": [],
   "source": [
    "import numpy as np\n",
    "import pandas as pd\n",
    "import matplotlib.pyplot as plt\n",
    "from datetime import datetime\n",
    "from tqdm import tqdm\n",
    "from scipy.optimize import minimize"
   ]
  },
  {
   "cell_type": "code",
   "execution_count": 3,
   "id": "3d77c6ed",
   "metadata": {},
   "outputs": [],
   "source": [
    "data = pd.read_excel('https://www.oliviergueant.com/uploads/4/3/0/9/4309511/sbf120_as_of_end_2018.xlsx', sheet_name = 'Data')"
   ]
  },
  {
   "cell_type": "code",
   "execution_count": 4,
   "id": "991eee43",
   "metadata": {},
   "outputs": [
    {
     "name": "stderr",
     "output_type": "stream",
     "text": [
      "  0%|          | 0/120 [00:00<?, ?it/s]"
     ]
    },
    {
     "name": "stderr",
     "output_type": "stream",
     "text": [
      "100%|██████████| 120/120 [00:00<00:00, 337.25it/s]\n",
      "100%|██████████| 119/119 [00:00<00:00, 306.18it/s]"
     ]
    },
    {
     "name": "stdout",
     "output_type": "stream",
     "text": [
      "CPU times: total: 281 ms\n",
      "Wall time: 777 ms\n"
     ]
    },
    {
     "name": "stderr",
     "output_type": "stream",
     "text": [
      "\n"
     ]
    }
   ],
   "source": [
    "%%time\n",
    "\n",
    "price_df_list = []\n",
    "for i in tqdm(range(120)):\n",
    "    price_data = data.iloc[:,3*i:3*i+2].copy()\n",
    "    price_data.dropna(inplace=True)\n",
    "    price_data.iloc[:,0] = pd.to_datetime(price_data.iloc[:,0], unit= 'D', origin= '1899-12-30')\n",
    "    price_data.rename(columns = {price_data.columns[0] : 'Date', price_data.columns[1]: price_data.columns[0]}, inplace = True)\n",
    "    price_data.set_index('Date', inplace = True)\n",
    "    price_df_list.append(price_data)\n",
    "\n",
    "agg_price_data = price_df_list[0]\n",
    "for df in tqdm(price_df_list[1:]):\n",
    "    agg_price_data = agg_price_data.join(df, how='outer', sort = True)\n",
    "\n",
    "agg_price_data = agg_price_data[(agg_price_data.index >= '31/12/2016') & (agg_price_data.index <= '31/12/2020')]"
   ]
  },
  {
   "cell_type": "code",
   "execution_count": 5,
   "id": "f650395a",
   "metadata": {},
   "outputs": [
    {
     "name": "stderr",
     "output_type": "stream",
     "text": [
      "  0%|          | 0/120 [00:00<?, ?it/s]C:\\Users\\kacpe\\AppData\\Local\\Temp\\ipykernel_14852\\1015039934.py:5: FutureWarning: Series.fillna with 'method' is deprecated and will raise in a future version. Use obj.ffill() or obj.bfill() instead.\n",
      "  series_real = series[(series.index >= first) & (series.index <= last)].fillna(method = 'bfill')\n",
      "C:\\Users\\kacpe\\AppData\\Local\\Temp\\ipykernel_14852\\1015039934.py:5: FutureWarning: Series.fillna with 'method' is deprecated and will raise in a future version. Use obj.ffill() or obj.bfill() instead.\n",
      "  series_real = series[(series.index >= first) & (series.index <= last)].fillna(method = 'bfill')\n",
      "C:\\Users\\kacpe\\AppData\\Local\\Temp\\ipykernel_14852\\1015039934.py:5: FutureWarning: Series.fillna with 'method' is deprecated and will raise in a future version. Use obj.ffill() or obj.bfill() instead.\n",
      "  series_real = series[(series.index >= first) & (series.index <= last)].fillna(method = 'bfill')\n",
      "C:\\Users\\kacpe\\AppData\\Local\\Temp\\ipykernel_14852\\1015039934.py:5: FutureWarning: Series.fillna with 'method' is deprecated and will raise in a future version. Use obj.ffill() or obj.bfill() instead.\n",
      "  series_real = series[(series.index >= first) & (series.index <= last)].fillna(method = 'bfill')\n",
      "C:\\Users\\kacpe\\AppData\\Local\\Temp\\ipykernel_14852\\1015039934.py:5: FutureWarning: Series.fillna with 'method' is deprecated and will raise in a future version. Use obj.ffill() or obj.bfill() instead.\n",
      "  series_real = series[(series.index >= first) & (series.index <= last)].fillna(method = 'bfill')\n",
      "C:\\Users\\kacpe\\AppData\\Local\\Temp\\ipykernel_14852\\1015039934.py:5: FutureWarning: Series.fillna with 'method' is deprecated and will raise in a future version. Use obj.ffill() or obj.bfill() instead.\n",
      "  series_real = series[(series.index >= first) & (series.index <= last)].fillna(method = 'bfill')\n",
      "C:\\Users\\kacpe\\AppData\\Local\\Temp\\ipykernel_14852\\1015039934.py:5: FutureWarning: Series.fillna with 'method' is deprecated and will raise in a future version. Use obj.ffill() or obj.bfill() instead.\n",
      "  series_real = series[(series.index >= first) & (series.index <= last)].fillna(method = 'bfill')\n",
      "C:\\Users\\kacpe\\AppData\\Local\\Temp\\ipykernel_14852\\1015039934.py:5: FutureWarning: Series.fillna with 'method' is deprecated and will raise in a future version. Use obj.ffill() or obj.bfill() instead.\n",
      "  series_real = series[(series.index >= first) & (series.index <= last)].fillna(method = 'bfill')\n",
      "C:\\Users\\kacpe\\AppData\\Local\\Temp\\ipykernel_14852\\1015039934.py:5: FutureWarning: Series.fillna with 'method' is deprecated and will raise in a future version. Use obj.ffill() or obj.bfill() instead.\n",
      "  series_real = series[(series.index >= first) & (series.index <= last)].fillna(method = 'bfill')\n",
      "C:\\Users\\kacpe\\AppData\\Local\\Temp\\ipykernel_14852\\1015039934.py:5: FutureWarning: Series.fillna with 'method' is deprecated and will raise in a future version. Use obj.ffill() or obj.bfill() instead.\n",
      "  series_real = series[(series.index >= first) & (series.index <= last)].fillna(method = 'bfill')\n",
      "C:\\Users\\kacpe\\AppData\\Local\\Temp\\ipykernel_14852\\1015039934.py:5: FutureWarning: Series.fillna with 'method' is deprecated and will raise in a future version. Use obj.ffill() or obj.bfill() instead.\n",
      "  series_real = series[(series.index >= first) & (series.index <= last)].fillna(method = 'bfill')\n",
      "C:\\Users\\kacpe\\AppData\\Local\\Temp\\ipykernel_14852\\1015039934.py:5: FutureWarning: Series.fillna with 'method' is deprecated and will raise in a future version. Use obj.ffill() or obj.bfill() instead.\n",
      "  series_real = series[(series.index >= first) & (series.index <= last)].fillna(method = 'bfill')\n",
      "C:\\Users\\kacpe\\AppData\\Local\\Temp\\ipykernel_14852\\1015039934.py:5: FutureWarning: Series.fillna with 'method' is deprecated and will raise in a future version. Use obj.ffill() or obj.bfill() instead.\n",
      "  series_real = series[(series.index >= first) & (series.index <= last)].fillna(method = 'bfill')\n",
      "C:\\Users\\kacpe\\AppData\\Local\\Temp\\ipykernel_14852\\1015039934.py:5: FutureWarning: Series.fillna with 'method' is deprecated and will raise in a future version. Use obj.ffill() or obj.bfill() instead.\n",
      "  series_real = series[(series.index >= first) & (series.index <= last)].fillna(method = 'bfill')\n",
      "C:\\Users\\kacpe\\AppData\\Local\\Temp\\ipykernel_14852\\1015039934.py:5: FutureWarning: Series.fillna with 'method' is deprecated and will raise in a future version. Use obj.ffill() or obj.bfill() instead.\n",
      "  series_real = series[(series.index >= first) & (series.index <= last)].fillna(method = 'bfill')\n",
      "C:\\Users\\kacpe\\AppData\\Local\\Temp\\ipykernel_14852\\1015039934.py:5: FutureWarning: Series.fillna with 'method' is deprecated and will raise in a future version. Use obj.ffill() or obj.bfill() instead.\n",
      "  series_real = series[(series.index >= first) & (series.index <= last)].fillna(method = 'bfill')\n",
      "C:\\Users\\kacpe\\AppData\\Local\\Temp\\ipykernel_14852\\1015039934.py:5: FutureWarning: Series.fillna with 'method' is deprecated and will raise in a future version. Use obj.ffill() or obj.bfill() instead.\n",
      "  series_real = series[(series.index >= first) & (series.index <= last)].fillna(method = 'bfill')\n",
      "C:\\Users\\kacpe\\AppData\\Local\\Temp\\ipykernel_14852\\1015039934.py:5: FutureWarning: Series.fillna with 'method' is deprecated and will raise in a future version. Use obj.ffill() or obj.bfill() instead.\n",
      "  series_real = series[(series.index >= first) & (series.index <= last)].fillna(method = 'bfill')\n",
      "C:\\Users\\kacpe\\AppData\\Local\\Temp\\ipykernel_14852\\1015039934.py:5: FutureWarning: Series.fillna with 'method' is deprecated and will raise in a future version. Use obj.ffill() or obj.bfill() instead.\n",
      "  series_real = series[(series.index >= first) & (series.index <= last)].fillna(method = 'bfill')\n",
      "C:\\Users\\kacpe\\AppData\\Local\\Temp\\ipykernel_14852\\1015039934.py:5: FutureWarning: Series.fillna with 'method' is deprecated and will raise in a future version. Use obj.ffill() or obj.bfill() instead.\n",
      "  series_real = series[(series.index >= first) & (series.index <= last)].fillna(method = 'bfill')\n",
      "C:\\Users\\kacpe\\AppData\\Local\\Temp\\ipykernel_14852\\1015039934.py:5: FutureWarning: Series.fillna with 'method' is deprecated and will raise in a future version. Use obj.ffill() or obj.bfill() instead.\n",
      "  series_real = series[(series.index >= first) & (series.index <= last)].fillna(method = 'bfill')\n",
      "C:\\Users\\kacpe\\AppData\\Local\\Temp\\ipykernel_14852\\1015039934.py:5: FutureWarning: Series.fillna with 'method' is deprecated and will raise in a future version. Use obj.ffill() or obj.bfill() instead.\n",
      "  series_real = series[(series.index >= first) & (series.index <= last)].fillna(method = 'bfill')\n",
      "C:\\Users\\kacpe\\AppData\\Local\\Temp\\ipykernel_14852\\1015039934.py:5: FutureWarning: Series.fillna with 'method' is deprecated and will raise in a future version. Use obj.ffill() or obj.bfill() instead.\n",
      "  series_real = series[(series.index >= first) & (series.index <= last)].fillna(method = 'bfill')\n",
      "C:\\Users\\kacpe\\AppData\\Local\\Temp\\ipykernel_14852\\1015039934.py:5: FutureWarning: Series.fillna with 'method' is deprecated and will raise in a future version. Use obj.ffill() or obj.bfill() instead.\n",
      "  series_real = series[(series.index >= first) & (series.index <= last)].fillna(method = 'bfill')\n",
      "C:\\Users\\kacpe\\AppData\\Local\\Temp\\ipykernel_14852\\1015039934.py:5: FutureWarning: Series.fillna with 'method' is deprecated and will raise in a future version. Use obj.ffill() or obj.bfill() instead.\n",
      "  series_real = series[(series.index >= first) & (series.index <= last)].fillna(method = 'bfill')\n",
      "C:\\Users\\kacpe\\AppData\\Local\\Temp\\ipykernel_14852\\1015039934.py:5: FutureWarning: Series.fillna with 'method' is deprecated and will raise in a future version. Use obj.ffill() or obj.bfill() instead.\n",
      "  series_real = series[(series.index >= first) & (series.index <= last)].fillna(method = 'bfill')\n",
      "C:\\Users\\kacpe\\AppData\\Local\\Temp\\ipykernel_14852\\1015039934.py:5: FutureWarning: Series.fillna with 'method' is deprecated and will raise in a future version. Use obj.ffill() or obj.bfill() instead.\n",
      "  series_real = series[(series.index >= first) & (series.index <= last)].fillna(method = 'bfill')\n",
      "C:\\Users\\kacpe\\AppData\\Local\\Temp\\ipykernel_14852\\1015039934.py:5: FutureWarning: Series.fillna with 'method' is deprecated and will raise in a future version. Use obj.ffill() or obj.bfill() instead.\n",
      "  series_real = series[(series.index >= first) & (series.index <= last)].fillna(method = 'bfill')\n",
      "C:\\Users\\kacpe\\AppData\\Local\\Temp\\ipykernel_14852\\1015039934.py:5: FutureWarning: Series.fillna with 'method' is deprecated and will raise in a future version. Use obj.ffill() or obj.bfill() instead.\n",
      "  series_real = series[(series.index >= first) & (series.index <= last)].fillna(method = 'bfill')\n",
      "C:\\Users\\kacpe\\AppData\\Local\\Temp\\ipykernel_14852\\1015039934.py:5: FutureWarning: Series.fillna with 'method' is deprecated and will raise in a future version. Use obj.ffill() or obj.bfill() instead.\n",
      "  series_real = series[(series.index >= first) & (series.index <= last)].fillna(method = 'bfill')\n",
      "C:\\Users\\kacpe\\AppData\\Local\\Temp\\ipykernel_14852\\1015039934.py:5: FutureWarning: Series.fillna with 'method' is deprecated and will raise in a future version. Use obj.ffill() or obj.bfill() instead.\n",
      "  series_real = series[(series.index >= first) & (series.index <= last)].fillna(method = 'bfill')\n",
      "C:\\Users\\kacpe\\AppData\\Local\\Temp\\ipykernel_14852\\1015039934.py:5: FutureWarning: Series.fillna with 'method' is deprecated and will raise in a future version. Use obj.ffill() or obj.bfill() instead.\n",
      "  series_real = series[(series.index >= first) & (series.index <= last)].fillna(method = 'bfill')\n",
      "C:\\Users\\kacpe\\AppData\\Local\\Temp\\ipykernel_14852\\1015039934.py:5: FutureWarning: Series.fillna with 'method' is deprecated and will raise in a future version. Use obj.ffill() or obj.bfill() instead.\n",
      "  series_real = series[(series.index >= first) & (series.index <= last)].fillna(method = 'bfill')\n",
      "C:\\Users\\kacpe\\AppData\\Local\\Temp\\ipykernel_14852\\1015039934.py:5: FutureWarning: Series.fillna with 'method' is deprecated and will raise in a future version. Use obj.ffill() or obj.bfill() instead.\n",
      "  series_real = series[(series.index >= first) & (series.index <= last)].fillna(method = 'bfill')\n",
      "C:\\Users\\kacpe\\AppData\\Local\\Temp\\ipykernel_14852\\1015039934.py:5: FutureWarning: Series.fillna with 'method' is deprecated and will raise in a future version. Use obj.ffill() or obj.bfill() instead.\n",
      "  series_real = series[(series.index >= first) & (series.index <= last)].fillna(method = 'bfill')\n",
      "C:\\Users\\kacpe\\AppData\\Local\\Temp\\ipykernel_14852\\1015039934.py:5: FutureWarning: Series.fillna with 'method' is deprecated and will raise in a future version. Use obj.ffill() or obj.bfill() instead.\n",
      "  series_real = series[(series.index >= first) & (series.index <= last)].fillna(method = 'bfill')\n",
      "C:\\Users\\kacpe\\AppData\\Local\\Temp\\ipykernel_14852\\1015039934.py:5: FutureWarning: Series.fillna with 'method' is deprecated and will raise in a future version. Use obj.ffill() or obj.bfill() instead.\n",
      "  series_real = series[(series.index >= first) & (series.index <= last)].fillna(method = 'bfill')\n",
      "C:\\Users\\kacpe\\AppData\\Local\\Temp\\ipykernel_14852\\1015039934.py:5: FutureWarning: Series.fillna with 'method' is deprecated and will raise in a future version. Use obj.ffill() or obj.bfill() instead.\n",
      "  series_real = series[(series.index >= first) & (series.index <= last)].fillna(method = 'bfill')\n",
      "C:\\Users\\kacpe\\AppData\\Local\\Temp\\ipykernel_14852\\1015039934.py:5: FutureWarning: Series.fillna with 'method' is deprecated and will raise in a future version. Use obj.ffill() or obj.bfill() instead.\n",
      "  series_real = series[(series.index >= first) & (series.index <= last)].fillna(method = 'bfill')\n",
      "C:\\Users\\kacpe\\AppData\\Local\\Temp\\ipykernel_14852\\1015039934.py:5: FutureWarning: Series.fillna with 'method' is deprecated and will raise in a future version. Use obj.ffill() or obj.bfill() instead.\n",
      "  series_real = series[(series.index >= first) & (series.index <= last)].fillna(method = 'bfill')\n",
      "C:\\Users\\kacpe\\AppData\\Local\\Temp\\ipykernel_14852\\1015039934.py:5: FutureWarning: Series.fillna with 'method' is deprecated and will raise in a future version. Use obj.ffill() or obj.bfill() instead.\n",
      "  series_real = series[(series.index >= first) & (series.index <= last)].fillna(method = 'bfill')\n",
      "C:\\Users\\kacpe\\AppData\\Local\\Temp\\ipykernel_14852\\1015039934.py:5: FutureWarning: Series.fillna with 'method' is deprecated and will raise in a future version. Use obj.ffill() or obj.bfill() instead.\n",
      "  series_real = series[(series.index >= first) & (series.index <= last)].fillna(method = 'bfill')\n",
      "C:\\Users\\kacpe\\AppData\\Local\\Temp\\ipykernel_14852\\1015039934.py:5: FutureWarning: Series.fillna with 'method' is deprecated and will raise in a future version. Use obj.ffill() or obj.bfill() instead.\n",
      "  series_real = series[(series.index >= first) & (series.index <= last)].fillna(method = 'bfill')\n",
      "C:\\Users\\kacpe\\AppData\\Local\\Temp\\ipykernel_14852\\1015039934.py:5: FutureWarning: Series.fillna with 'method' is deprecated and will raise in a future version. Use obj.ffill() or obj.bfill() instead.\n",
      "  series_real = series[(series.index >= first) & (series.index <= last)].fillna(method = 'bfill')\n",
      "C:\\Users\\kacpe\\AppData\\Local\\Temp\\ipykernel_14852\\1015039934.py:5: FutureWarning: Series.fillna with 'method' is deprecated and will raise in a future version. Use obj.ffill() or obj.bfill() instead.\n",
      "  series_real = series[(series.index >= first) & (series.index <= last)].fillna(method = 'bfill')\n",
      "C:\\Users\\kacpe\\AppData\\Local\\Temp\\ipykernel_14852\\1015039934.py:5: FutureWarning: Series.fillna with 'method' is deprecated and will raise in a future version. Use obj.ffill() or obj.bfill() instead.\n",
      "  series_real = series[(series.index >= first) & (series.index <= last)].fillna(method = 'bfill')\n",
      "C:\\Users\\kacpe\\AppData\\Local\\Temp\\ipykernel_14852\\1015039934.py:5: FutureWarning: Series.fillna with 'method' is deprecated and will raise in a future version. Use obj.ffill() or obj.bfill() instead.\n",
      "  series_real = series[(series.index >= first) & (series.index <= last)].fillna(method = 'bfill')\n",
      "C:\\Users\\kacpe\\AppData\\Local\\Temp\\ipykernel_14852\\1015039934.py:5: FutureWarning: Series.fillna with 'method' is deprecated and will raise in a future version. Use obj.ffill() or obj.bfill() instead.\n",
      "  series_real = series[(series.index >= first) & (series.index <= last)].fillna(method = 'bfill')\n",
      "C:\\Users\\kacpe\\AppData\\Local\\Temp\\ipykernel_14852\\1015039934.py:5: FutureWarning: Series.fillna with 'method' is deprecated and will raise in a future version. Use obj.ffill() or obj.bfill() instead.\n",
      "  series_real = series[(series.index >= first) & (series.index <= last)].fillna(method = 'bfill')\n",
      "C:\\Users\\kacpe\\AppData\\Local\\Temp\\ipykernel_14852\\1015039934.py:5: FutureWarning: Series.fillna with 'method' is deprecated and will raise in a future version. Use obj.ffill() or obj.bfill() instead.\n",
      "  series_real = series[(series.index >= first) & (series.index <= last)].fillna(method = 'bfill')\n",
      "C:\\Users\\kacpe\\AppData\\Local\\Temp\\ipykernel_14852\\1015039934.py:5: FutureWarning: Series.fillna with 'method' is deprecated and will raise in a future version. Use obj.ffill() or obj.bfill() instead.\n",
      "  series_real = series[(series.index >= first) & (series.index <= last)].fillna(method = 'bfill')\n",
      "C:\\Users\\kacpe\\AppData\\Local\\Temp\\ipykernel_14852\\1015039934.py:5: FutureWarning: Series.fillna with 'method' is deprecated and will raise in a future version. Use obj.ffill() or obj.bfill() instead.\n",
      "  series_real = series[(series.index >= first) & (series.index <= last)].fillna(method = 'bfill')\n",
      "C:\\Users\\kacpe\\AppData\\Local\\Temp\\ipykernel_14852\\1015039934.py:5: FutureWarning: Series.fillna with 'method' is deprecated and will raise in a future version. Use obj.ffill() or obj.bfill() instead.\n",
      "  series_real = series[(series.index >= first) & (series.index <= last)].fillna(method = 'bfill')\n",
      "C:\\Users\\kacpe\\AppData\\Local\\Temp\\ipykernel_14852\\1015039934.py:5: FutureWarning: Series.fillna with 'method' is deprecated and will raise in a future version. Use obj.ffill() or obj.bfill() instead.\n",
      "  series_real = series[(series.index >= first) & (series.index <= last)].fillna(method = 'bfill')\n",
      "C:\\Users\\kacpe\\AppData\\Local\\Temp\\ipykernel_14852\\1015039934.py:5: FutureWarning: Series.fillna with 'method' is deprecated and will raise in a future version. Use obj.ffill() or obj.bfill() instead.\n",
      "  series_real = series[(series.index >= first) & (series.index <= last)].fillna(method = 'bfill')\n",
      "C:\\Users\\kacpe\\AppData\\Local\\Temp\\ipykernel_14852\\1015039934.py:5: FutureWarning: Series.fillna with 'method' is deprecated and will raise in a future version. Use obj.ffill() or obj.bfill() instead.\n",
      "  series_real = series[(series.index >= first) & (series.index <= last)].fillna(method = 'bfill')\n",
      "C:\\Users\\kacpe\\AppData\\Local\\Temp\\ipykernel_14852\\1015039934.py:5: FutureWarning: Series.fillna with 'method' is deprecated and will raise in a future version. Use obj.ffill() or obj.bfill() instead.\n",
      "  series_real = series[(series.index >= first) & (series.index <= last)].fillna(method = 'bfill')\n",
      "C:\\Users\\kacpe\\AppData\\Local\\Temp\\ipykernel_14852\\1015039934.py:5: FutureWarning: Series.fillna with 'method' is deprecated and will raise in a future version. Use obj.ffill() or obj.bfill() instead.\n",
      "  series_real = series[(series.index >= first) & (series.index <= last)].fillna(method = 'bfill')\n",
      "C:\\Users\\kacpe\\AppData\\Local\\Temp\\ipykernel_14852\\1015039934.py:5: FutureWarning: Series.fillna with 'method' is deprecated and will raise in a future version. Use obj.ffill() or obj.bfill() instead.\n",
      "  series_real = series[(series.index >= first) & (series.index <= last)].fillna(method = 'bfill')\n",
      "C:\\Users\\kacpe\\AppData\\Local\\Temp\\ipykernel_14852\\1015039934.py:5: FutureWarning: Series.fillna with 'method' is deprecated and will raise in a future version. Use obj.ffill() or obj.bfill() instead.\n",
      "  series_real = series[(series.index >= first) & (series.index <= last)].fillna(method = 'bfill')\n",
      "C:\\Users\\kacpe\\AppData\\Local\\Temp\\ipykernel_14852\\1015039934.py:5: FutureWarning: Series.fillna with 'method' is deprecated and will raise in a future version. Use obj.ffill() or obj.bfill() instead.\n",
      "  series_real = series[(series.index >= first) & (series.index <= last)].fillna(method = 'bfill')\n",
      " 51%|█████     | 61/120 [00:00<00:00, 566.49it/s]C:\\Users\\kacpe\\AppData\\Local\\Temp\\ipykernel_14852\\1015039934.py:5: FutureWarning: Series.fillna with 'method' is deprecated and will raise in a future version. Use obj.ffill() or obj.bfill() instead.\n",
      "  series_real = series[(series.index >= first) & (series.index <= last)].fillna(method = 'bfill')\n",
      "C:\\Users\\kacpe\\AppData\\Local\\Temp\\ipykernel_14852\\1015039934.py:5: FutureWarning: Series.fillna with 'method' is deprecated and will raise in a future version. Use obj.ffill() or obj.bfill() instead.\n",
      "  series_real = series[(series.index >= first) & (series.index <= last)].fillna(method = 'bfill')\n",
      "C:\\Users\\kacpe\\AppData\\Local\\Temp\\ipykernel_14852\\1015039934.py:5: FutureWarning: Series.fillna with 'method' is deprecated and will raise in a future version. Use obj.ffill() or obj.bfill() instead.\n",
      "  series_real = series[(series.index >= first) & (series.index <= last)].fillna(method = 'bfill')\n",
      "C:\\Users\\kacpe\\AppData\\Local\\Temp\\ipykernel_14852\\1015039934.py:5: FutureWarning: Series.fillna with 'method' is deprecated and will raise in a future version. Use obj.ffill() or obj.bfill() instead.\n",
      "  series_real = series[(series.index >= first) & (series.index <= last)].fillna(method = 'bfill')\n",
      "C:\\Users\\kacpe\\AppData\\Local\\Temp\\ipykernel_14852\\1015039934.py:5: FutureWarning: Series.fillna with 'method' is deprecated and will raise in a future version. Use obj.ffill() or obj.bfill() instead.\n",
      "  series_real = series[(series.index >= first) & (series.index <= last)].fillna(method = 'bfill')\n",
      "C:\\Users\\kacpe\\AppData\\Local\\Temp\\ipykernel_14852\\1015039934.py:5: FutureWarning: Series.fillna with 'method' is deprecated and will raise in a future version. Use obj.ffill() or obj.bfill() instead.\n",
      "  series_real = series[(series.index >= first) & (series.index <= last)].fillna(method = 'bfill')\n",
      "C:\\Users\\kacpe\\AppData\\Local\\Temp\\ipykernel_14852\\1015039934.py:5: FutureWarning: Series.fillna with 'method' is deprecated and will raise in a future version. Use obj.ffill() or obj.bfill() instead.\n",
      "  series_real = series[(series.index >= first) & (series.index <= last)].fillna(method = 'bfill')\n",
      "C:\\Users\\kacpe\\AppData\\Local\\Temp\\ipykernel_14852\\1015039934.py:5: FutureWarning: Series.fillna with 'method' is deprecated and will raise in a future version. Use obj.ffill() or obj.bfill() instead.\n",
      "  series_real = series[(series.index >= first) & (series.index <= last)].fillna(method = 'bfill')\n",
      "C:\\Users\\kacpe\\AppData\\Local\\Temp\\ipykernel_14852\\1015039934.py:5: FutureWarning: Series.fillna with 'method' is deprecated and will raise in a future version. Use obj.ffill() or obj.bfill() instead.\n",
      "  series_real = series[(series.index >= first) & (series.index <= last)].fillna(method = 'bfill')\n",
      "C:\\Users\\kacpe\\AppData\\Local\\Temp\\ipykernel_14852\\1015039934.py:5: FutureWarning: Series.fillna with 'method' is deprecated and will raise in a future version. Use obj.ffill() or obj.bfill() instead.\n",
      "  series_real = series[(series.index >= first) & (series.index <= last)].fillna(method = 'bfill')\n",
      "C:\\Users\\kacpe\\AppData\\Local\\Temp\\ipykernel_14852\\1015039934.py:5: FutureWarning: Series.fillna with 'method' is deprecated and will raise in a future version. Use obj.ffill() or obj.bfill() instead.\n",
      "  series_real = series[(series.index >= first) & (series.index <= last)].fillna(method = 'bfill')\n",
      "C:\\Users\\kacpe\\AppData\\Local\\Temp\\ipykernel_14852\\1015039934.py:5: FutureWarning: Series.fillna with 'method' is deprecated and will raise in a future version. Use obj.ffill() or obj.bfill() instead.\n",
      "  series_real = series[(series.index >= first) & (series.index <= last)].fillna(method = 'bfill')\n",
      "C:\\Users\\kacpe\\AppData\\Local\\Temp\\ipykernel_14852\\1015039934.py:5: FutureWarning: Series.fillna with 'method' is deprecated and will raise in a future version. Use obj.ffill() or obj.bfill() instead.\n",
      "  series_real = series[(series.index >= first) & (series.index <= last)].fillna(method = 'bfill')\n",
      "C:\\Users\\kacpe\\AppData\\Local\\Temp\\ipykernel_14852\\1015039934.py:5: FutureWarning: Series.fillna with 'method' is deprecated and will raise in a future version. Use obj.ffill() or obj.bfill() instead.\n",
      "  series_real = series[(series.index >= first) & (series.index <= last)].fillna(method = 'bfill')\n",
      "C:\\Users\\kacpe\\AppData\\Local\\Temp\\ipykernel_14852\\1015039934.py:5: FutureWarning: Series.fillna with 'method' is deprecated and will raise in a future version. Use obj.ffill() or obj.bfill() instead.\n",
      "  series_real = series[(series.index >= first) & (series.index <= last)].fillna(method = 'bfill')\n",
      "C:\\Users\\kacpe\\AppData\\Local\\Temp\\ipykernel_14852\\1015039934.py:5: FutureWarning: Series.fillna with 'method' is deprecated and will raise in a future version. Use obj.ffill() or obj.bfill() instead.\n",
      "  series_real = series[(series.index >= first) & (series.index <= last)].fillna(method = 'bfill')\n",
      "C:\\Users\\kacpe\\AppData\\Local\\Temp\\ipykernel_14852\\1015039934.py:5: FutureWarning: Series.fillna with 'method' is deprecated and will raise in a future version. Use obj.ffill() or obj.bfill() instead.\n",
      "  series_real = series[(series.index >= first) & (series.index <= last)].fillna(method = 'bfill')\n",
      "C:\\Users\\kacpe\\AppData\\Local\\Temp\\ipykernel_14852\\1015039934.py:5: FutureWarning: Series.fillna with 'method' is deprecated and will raise in a future version. Use obj.ffill() or obj.bfill() instead.\n",
      "  series_real = series[(series.index >= first) & (series.index <= last)].fillna(method = 'bfill')\n",
      "C:\\Users\\kacpe\\AppData\\Local\\Temp\\ipykernel_14852\\1015039934.py:5: FutureWarning: Series.fillna with 'method' is deprecated and will raise in a future version. Use obj.ffill() or obj.bfill() instead.\n",
      "  series_real = series[(series.index >= first) & (series.index <= last)].fillna(method = 'bfill')\n",
      "C:\\Users\\kacpe\\AppData\\Local\\Temp\\ipykernel_14852\\1015039934.py:5: FutureWarning: Series.fillna with 'method' is deprecated and will raise in a future version. Use obj.ffill() or obj.bfill() instead.\n",
      "  series_real = series[(series.index >= first) & (series.index <= last)].fillna(method = 'bfill')\n",
      "C:\\Users\\kacpe\\AppData\\Local\\Temp\\ipykernel_14852\\1015039934.py:5: FutureWarning: Series.fillna with 'method' is deprecated and will raise in a future version. Use obj.ffill() or obj.bfill() instead.\n",
      "  series_real = series[(series.index >= first) & (series.index <= last)].fillna(method = 'bfill')\n",
      "C:\\Users\\kacpe\\AppData\\Local\\Temp\\ipykernel_14852\\1015039934.py:5: FutureWarning: Series.fillna with 'method' is deprecated and will raise in a future version. Use obj.ffill() or obj.bfill() instead.\n",
      "  series_real = series[(series.index >= first) & (series.index <= last)].fillna(method = 'bfill')\n",
      "C:\\Users\\kacpe\\AppData\\Local\\Temp\\ipykernel_14852\\1015039934.py:5: FutureWarning: Series.fillna with 'method' is deprecated and will raise in a future version. Use obj.ffill() or obj.bfill() instead.\n",
      "  series_real = series[(series.index >= first) & (series.index <= last)].fillna(method = 'bfill')\n",
      "C:\\Users\\kacpe\\AppData\\Local\\Temp\\ipykernel_14852\\1015039934.py:5: FutureWarning: Series.fillna with 'method' is deprecated and will raise in a future version. Use obj.ffill() or obj.bfill() instead.\n",
      "  series_real = series[(series.index >= first) & (series.index <= last)].fillna(method = 'bfill')\n",
      "C:\\Users\\kacpe\\AppData\\Local\\Temp\\ipykernel_14852\\1015039934.py:5: FutureWarning: Series.fillna with 'method' is deprecated and will raise in a future version. Use obj.ffill() or obj.bfill() instead.\n",
      "  series_real = series[(series.index >= first) & (series.index <= last)].fillna(method = 'bfill')\n",
      "C:\\Users\\kacpe\\AppData\\Local\\Temp\\ipykernel_14852\\1015039934.py:5: FutureWarning: Series.fillna with 'method' is deprecated and will raise in a future version. Use obj.ffill() or obj.bfill() instead.\n",
      "  series_real = series[(series.index >= first) & (series.index <= last)].fillna(method = 'bfill')\n",
      "C:\\Users\\kacpe\\AppData\\Local\\Temp\\ipykernel_14852\\1015039934.py:5: FutureWarning: Series.fillna with 'method' is deprecated and will raise in a future version. Use obj.ffill() or obj.bfill() instead.\n",
      "  series_real = series[(series.index >= first) & (series.index <= last)].fillna(method = 'bfill')\n",
      "C:\\Users\\kacpe\\AppData\\Local\\Temp\\ipykernel_14852\\1015039934.py:5: FutureWarning: Series.fillna with 'method' is deprecated and will raise in a future version. Use obj.ffill() or obj.bfill() instead.\n",
      "  series_real = series[(series.index >= first) & (series.index <= last)].fillna(method = 'bfill')\n",
      "C:\\Users\\kacpe\\AppData\\Local\\Temp\\ipykernel_14852\\1015039934.py:5: FutureWarning: Series.fillna with 'method' is deprecated and will raise in a future version. Use obj.ffill() or obj.bfill() instead.\n",
      "  series_real = series[(series.index >= first) & (series.index <= last)].fillna(method = 'bfill')\n",
      "C:\\Users\\kacpe\\AppData\\Local\\Temp\\ipykernel_14852\\1015039934.py:5: FutureWarning: Series.fillna with 'method' is deprecated and will raise in a future version. Use obj.ffill() or obj.bfill() instead.\n",
      "  series_real = series[(series.index >= first) & (series.index <= last)].fillna(method = 'bfill')\n",
      "C:\\Users\\kacpe\\AppData\\Local\\Temp\\ipykernel_14852\\1015039934.py:5: FutureWarning: Series.fillna with 'method' is deprecated and will raise in a future version. Use obj.ffill() or obj.bfill() instead.\n",
      "  series_real = series[(series.index >= first) & (series.index <= last)].fillna(method = 'bfill')\n",
      "C:\\Users\\kacpe\\AppData\\Local\\Temp\\ipykernel_14852\\1015039934.py:5: FutureWarning: Series.fillna with 'method' is deprecated and will raise in a future version. Use obj.ffill() or obj.bfill() instead.\n",
      "  series_real = series[(series.index >= first) & (series.index <= last)].fillna(method = 'bfill')\n",
      "C:\\Users\\kacpe\\AppData\\Local\\Temp\\ipykernel_14852\\1015039934.py:5: FutureWarning: Series.fillna with 'method' is deprecated and will raise in a future version. Use obj.ffill() or obj.bfill() instead.\n",
      "  series_real = series[(series.index >= first) & (series.index <= last)].fillna(method = 'bfill')\n",
      "C:\\Users\\kacpe\\AppData\\Local\\Temp\\ipykernel_14852\\1015039934.py:5: FutureWarning: Series.fillna with 'method' is deprecated and will raise in a future version. Use obj.ffill() or obj.bfill() instead.\n",
      "  series_real = series[(series.index >= first) & (series.index <= last)].fillna(method = 'bfill')\n",
      "C:\\Users\\kacpe\\AppData\\Local\\Temp\\ipykernel_14852\\1015039934.py:5: FutureWarning: Series.fillna with 'method' is deprecated and will raise in a future version. Use obj.ffill() or obj.bfill() instead.\n",
      "  series_real = series[(series.index >= first) & (series.index <= last)].fillna(method = 'bfill')\n",
      "C:\\Users\\kacpe\\AppData\\Local\\Temp\\ipykernel_14852\\1015039934.py:5: FutureWarning: Series.fillna with 'method' is deprecated and will raise in a future version. Use obj.ffill() or obj.bfill() instead.\n",
      "  series_real = series[(series.index >= first) & (series.index <= last)].fillna(method = 'bfill')\n",
      "C:\\Users\\kacpe\\AppData\\Local\\Temp\\ipykernel_14852\\1015039934.py:5: FutureWarning: Series.fillna with 'method' is deprecated and will raise in a future version. Use obj.ffill() or obj.bfill() instead.\n",
      "  series_real = series[(series.index >= first) & (series.index <= last)].fillna(method = 'bfill')\n",
      "C:\\Users\\kacpe\\AppData\\Local\\Temp\\ipykernel_14852\\1015039934.py:5: FutureWarning: Series.fillna with 'method' is deprecated and will raise in a future version. Use obj.ffill() or obj.bfill() instead.\n",
      "  series_real = series[(series.index >= first) & (series.index <= last)].fillna(method = 'bfill')\n",
      "C:\\Users\\kacpe\\AppData\\Local\\Temp\\ipykernel_14852\\1015039934.py:5: FutureWarning: Series.fillna with 'method' is deprecated and will raise in a future version. Use obj.ffill() or obj.bfill() instead.\n",
      "  series_real = series[(series.index >= first) & (series.index <= last)].fillna(method = 'bfill')\n",
      "C:\\Users\\kacpe\\AppData\\Local\\Temp\\ipykernel_14852\\1015039934.py:5: FutureWarning: Series.fillna with 'method' is deprecated and will raise in a future version. Use obj.ffill() or obj.bfill() instead.\n",
      "  series_real = series[(series.index >= first) & (series.index <= last)].fillna(method = 'bfill')\n",
      "C:\\Users\\kacpe\\AppData\\Local\\Temp\\ipykernel_14852\\1015039934.py:5: FutureWarning: Series.fillna with 'method' is deprecated and will raise in a future version. Use obj.ffill() or obj.bfill() instead.\n",
      "  series_real = series[(series.index >= first) & (series.index <= last)].fillna(method = 'bfill')\n",
      "C:\\Users\\kacpe\\AppData\\Local\\Temp\\ipykernel_14852\\1015039934.py:5: FutureWarning: Series.fillna with 'method' is deprecated and will raise in a future version. Use obj.ffill() or obj.bfill() instead.\n",
      "  series_real = series[(series.index >= first) & (series.index <= last)].fillna(method = 'bfill')\n",
      "C:\\Users\\kacpe\\AppData\\Local\\Temp\\ipykernel_14852\\1015039934.py:5: FutureWarning: Series.fillna with 'method' is deprecated and will raise in a future version. Use obj.ffill() or obj.bfill() instead.\n",
      "  series_real = series[(series.index >= first) & (series.index <= last)].fillna(method = 'bfill')\n",
      "C:\\Users\\kacpe\\AppData\\Local\\Temp\\ipykernel_14852\\1015039934.py:5: FutureWarning: Series.fillna with 'method' is deprecated and will raise in a future version. Use obj.ffill() or obj.bfill() instead.\n",
      "  series_real = series[(series.index >= first) & (series.index <= last)].fillna(method = 'bfill')\n",
      "C:\\Users\\kacpe\\AppData\\Local\\Temp\\ipykernel_14852\\1015039934.py:5: FutureWarning: Series.fillna with 'method' is deprecated and will raise in a future version. Use obj.ffill() or obj.bfill() instead.\n",
      "  series_real = series[(series.index >= first) & (series.index <= last)].fillna(method = 'bfill')\n",
      "C:\\Users\\kacpe\\AppData\\Local\\Temp\\ipykernel_14852\\1015039934.py:5: FutureWarning: Series.fillna with 'method' is deprecated and will raise in a future version. Use obj.ffill() or obj.bfill() instead.\n",
      "  series_real = series[(series.index >= first) & (series.index <= last)].fillna(method = 'bfill')\n",
      "C:\\Users\\kacpe\\AppData\\Local\\Temp\\ipykernel_14852\\1015039934.py:5: FutureWarning: Series.fillna with 'method' is deprecated and will raise in a future version. Use obj.ffill() or obj.bfill() instead.\n",
      "  series_real = series[(series.index >= first) & (series.index <= last)].fillna(method = 'bfill')\n",
      "C:\\Users\\kacpe\\AppData\\Local\\Temp\\ipykernel_14852\\1015039934.py:5: FutureWarning: Series.fillna with 'method' is deprecated and will raise in a future version. Use obj.ffill() or obj.bfill() instead.\n",
      "  series_real = series[(series.index >= first) & (series.index <= last)].fillna(method = 'bfill')\n",
      "C:\\Users\\kacpe\\AppData\\Local\\Temp\\ipykernel_14852\\1015039934.py:5: FutureWarning: Series.fillna with 'method' is deprecated and will raise in a future version. Use obj.ffill() or obj.bfill() instead.\n",
      "  series_real = series[(series.index >= first) & (series.index <= last)].fillna(method = 'bfill')\n",
      "C:\\Users\\kacpe\\AppData\\Local\\Temp\\ipykernel_14852\\1015039934.py:5: FutureWarning: Series.fillna with 'method' is deprecated and will raise in a future version. Use obj.ffill() or obj.bfill() instead.\n",
      "  series_real = series[(series.index >= first) & (series.index <= last)].fillna(method = 'bfill')\n",
      "C:\\Users\\kacpe\\AppData\\Local\\Temp\\ipykernel_14852\\1015039934.py:5: FutureWarning: Series.fillna with 'method' is deprecated and will raise in a future version. Use obj.ffill() or obj.bfill() instead.\n",
      "  series_real = series[(series.index >= first) & (series.index <= last)].fillna(method = 'bfill')\n",
      "C:\\Users\\kacpe\\AppData\\Local\\Temp\\ipykernel_14852\\1015039934.py:5: FutureWarning: Series.fillna with 'method' is deprecated and will raise in a future version. Use obj.ffill() or obj.bfill() instead.\n",
      "  series_real = series[(series.index >= first) & (series.index <= last)].fillna(method = 'bfill')\n",
      "C:\\Users\\kacpe\\AppData\\Local\\Temp\\ipykernel_14852\\1015039934.py:5: FutureWarning: Series.fillna with 'method' is deprecated and will raise in a future version. Use obj.ffill() or obj.bfill() instead.\n",
      "  series_real = series[(series.index >= first) & (series.index <= last)].fillna(method = 'bfill')\n",
      "C:\\Users\\kacpe\\AppData\\Local\\Temp\\ipykernel_14852\\1015039934.py:5: FutureWarning: Series.fillna with 'method' is deprecated and will raise in a future version. Use obj.ffill() or obj.bfill() instead.\n",
      "  series_real = series[(series.index >= first) & (series.index <= last)].fillna(method = 'bfill')\n",
      "C:\\Users\\kacpe\\AppData\\Local\\Temp\\ipykernel_14852\\1015039934.py:5: FutureWarning: Series.fillna with 'method' is deprecated and will raise in a future version. Use obj.ffill() or obj.bfill() instead.\n",
      "  series_real = series[(series.index >= first) & (series.index <= last)].fillna(method = 'bfill')\n",
      "C:\\Users\\kacpe\\AppData\\Local\\Temp\\ipykernel_14852\\1015039934.py:5: FutureWarning: Series.fillna with 'method' is deprecated and will raise in a future version. Use obj.ffill() or obj.bfill() instead.\n",
      "  series_real = series[(series.index >= first) & (series.index <= last)].fillna(method = 'bfill')\n",
      "C:\\Users\\kacpe\\AppData\\Local\\Temp\\ipykernel_14852\\1015039934.py:5: FutureWarning: Series.fillna with 'method' is deprecated and will raise in a future version. Use obj.ffill() or obj.bfill() instead.\n",
      "  series_real = series[(series.index >= first) & (series.index <= last)].fillna(method = 'bfill')\n",
      " 98%|█████████▊| 118/120 [00:00<00:00, 553.69it/s]C:\\Users\\kacpe\\AppData\\Local\\Temp\\ipykernel_14852\\1015039934.py:5: FutureWarning: Series.fillna with 'method' is deprecated and will raise in a future version. Use obj.ffill() or obj.bfill() instead.\n",
      "  series_real = series[(series.index >= first) & (series.index <= last)].fillna(method = 'bfill')\n",
      "C:\\Users\\kacpe\\AppData\\Local\\Temp\\ipykernel_14852\\1015039934.py:5: FutureWarning: Series.fillna with 'method' is deprecated and will raise in a future version. Use obj.ffill() or obj.bfill() instead.\n",
      "  series_real = series[(series.index >= first) & (series.index <= last)].fillna(method = 'bfill')\n",
      "100%|██████████| 120/120 [00:00<00:00, 544.39it/s]\n"
     ]
    }
   ],
   "source": [
    "for ticker in tqdm(agg_price_data.columns):\n",
    "    series = agg_price_data[ticker]\n",
    "    first = series.first_valid_index()\n",
    "    last = series.last_valid_index()\n",
    "    series_real = series[(series.index >= first) & (series.index <= last)].fillna(method = 'bfill')\n",
    "    agg_price_data[ticker][(agg_price_data[ticker].index >= first) & (agg_price_data[ticker].index <= last)] = series_real"
   ]
  },
  {
   "cell_type": "code",
   "execution_count": 6,
   "id": "b5f35ef2",
   "metadata": {},
   "outputs": [
    {
     "name": "stderr",
     "output_type": "stream",
     "text": [
      "100%|██████████| 120/120 [00:00<00:00, 11787.55it/s]"
     ]
    },
    {
     "name": "stdout",
     "output_type": "stream",
     "text": [
      "ALD FP Equity\n",
      "DatetimeIndex(['2017-01-02', '2017-01-03', '2017-01-04', '2017-01-05',\n",
      "               '2017-01-06', '2017-01-09', '2017-01-10', '2017-01-11',\n",
      "               '2017-01-12', '2017-01-13',\n",
      "               ...\n",
      "               '2017-06-01', '2017-06-02', '2017-06-05', '2017-06-06',\n",
      "               '2017-06-07', '2017-06-08', '2017-06-09', '2017-06-12',\n",
      "               '2017-06-13', '2017-06-14'],\n",
      "              dtype='datetime64[ns]', name='Date', length=115, freq=None)\n",
      "GTO NA Equity\n",
      "DatetimeIndex(['2019-05-29', '2019-05-30', '2019-05-31', '2019-06-03',\n",
      "               '2019-06-04', '2019-06-05', '2019-06-06', '2019-06-07',\n",
      "               '2019-06-10', '2019-06-11',\n",
      "               ...\n",
      "               '2020-12-17', '2020-12-18', '2020-12-21', '2020-12-22',\n",
      "               '2020-12-23', '2020-12-24', '2020-12-28', '2020-12-29',\n",
      "               '2020-12-30', '2020-12-31'],\n",
      "              dtype='datetime64[ns]', name='Date', length=410, freq=None)\n",
      "ING FP Equity\n",
      "DatetimeIndex(['2020-11-09', '2020-11-10', '2020-11-11', '2020-11-12',\n",
      "               '2020-11-13', '2020-11-16', '2020-11-17', '2020-11-18',\n",
      "               '2020-11-19', '2020-11-20', '2020-11-23', '2020-11-24',\n",
      "               '2020-11-25', '2020-11-26', '2020-11-27', '2020-11-30',\n",
      "               '2020-12-01', '2020-12-02', '2020-12-03', '2020-12-04',\n",
      "               '2020-12-07', '2020-12-08', '2020-12-09', '2020-12-10',\n",
      "               '2020-12-11', '2020-12-14', '2020-12-15', '2020-12-16',\n",
      "               '2020-12-17', '2020-12-18', '2020-12-21', '2020-12-22',\n",
      "               '2020-12-23', '2020-12-24', '2020-12-28', '2020-12-29',\n",
      "               '2020-12-30', '2020-12-31'],\n",
      "              dtype='datetime64[ns]', name='Date', freq=None)\n",
      "FTI FP Equity\n",
      "DatetimeIndex(['2017-01-02', '2017-01-03', '2017-01-04', '2017-01-05',\n",
      "               '2017-01-06', '2017-01-09', '2017-01-10', '2017-01-11',\n",
      "               '2017-01-12', '2017-01-13', '2017-01-16'],\n",
      "              dtype='datetime64[ns]', name='Date', freq=None)\n",
      "ALT FP Equity\n",
      "DatetimeIndex(['2020-04-02', '2020-04-03', '2020-04-06', '2020-04-07',\n",
      "               '2020-04-08', '2020-04-09', '2020-04-14', '2020-04-15',\n",
      "               '2020-04-16', '2020-04-17',\n",
      "               ...\n",
      "               '2020-12-17', '2020-12-18', '2020-12-21', '2020-12-22',\n",
      "               '2020-12-23', '2020-12-24', '2020-12-28', '2020-12-29',\n",
      "               '2020-12-30', '2020-12-31'],\n",
      "              dtype='datetime64[ns]', name='Date', length=192, freq=None)\n"
     ]
    },
    {
     "name": "stderr",
     "output_type": "stream",
     "text": [
      "\n"
     ]
    }
   ],
   "source": [
    "for ticker in tqdm(agg_price_data.columns):\n",
    "    if agg_price_data[ticker].isnull().values.any():\n",
    "        print(ticker)\n",
    "        nulls = agg_price_data[ticker].isnull()\n",
    "        print(nulls[nulls == True].index)"
   ]
  },
  {
   "cell_type": "code",
   "execution_count": 7,
   "id": "d3524b9e",
   "metadata": {},
   "outputs": [
    {
     "name": "stderr",
     "output_type": "stream",
     "text": [
      "C:\\Users\\kacpe\\AppData\\Local\\Temp\\ipykernel_14852\\136000960.py:1: FutureWarning: The default fill_method='pad' in DataFrame.pct_change is deprecated and will be removed in a future version. Call ffill before calling pct_change to retain current behavior and silence this warning.\n",
      "  returns = agg_price_data.pct_change().dropna() # set returns to 0 when the stock disappears\n"
     ]
    }
   ],
   "source": [
    "returns = agg_price_data.pct_change().dropna() # set returns to 0 when the stock disappears"
   ]
  },
  {
   "cell_type": "code",
   "execution_count": 8,
   "id": "b51de631",
   "metadata": {},
   "outputs": [
    {
     "name": "stderr",
     "output_type": "stream",
     "text": [
      "100%|██████████| 120/120 [00:00<00:00, 406.21it/s]\n",
      "100%|██████████| 119/119 [00:00<00:00, 223.51it/s]\n"
     ]
    }
   ],
   "source": [
    "df_mkt_cap_list = []\n",
    "for i in tqdm(range(120)):\n",
    "    mkt_cap_data = data.iloc[:,[3*i,3*i+2]].copy()\n",
    "    mkt_cap_data.dropna(inplace = True)\n",
    "    mkt_cap_data.iloc[:,0] = pd.to_datetime(mkt_cap_data.iloc[:,0], unit= 'D', origin= '1899-12-30')\n",
    "    mkt_cap_data.rename(columns = {mkt_cap_data.columns[0] : 'Date', mkt_cap_data.columns[1]: mkt_cap_data.columns[0]}, inplace = True)\n",
    "    mkt_cap_data.set_index('Date', inplace = True)\n",
    "    df_mkt_cap_list.append(mkt_cap_data)\n",
    "\n",
    "agg_mkt_cap_data = df_mkt_cap_list[0]\n",
    "for df in tqdm(df_mkt_cap_list[1:]):\n",
    "    agg_mkt_cap_data = agg_mkt_cap_data.join(df, how='outer', sort = True)"
   ]
  },
  {
   "cell_type": "code",
   "execution_count": 9,
   "id": "bb58d938",
   "metadata": {},
   "outputs": [
    {
     "name": "stderr",
     "output_type": "stream",
     "text": [
      "100%|██████████| 120/120 [00:00<00:00, 3793.69it/s]"
     ]
    },
    {
     "name": "stdout",
     "output_type": "stream",
     "text": [
      "RUI FP Equity\n",
      "DatetimeIndex(['2013-02-06', '2013-02-11'], dtype='datetime64[ns]', name='Date', freq=None)\n",
      "ALD FP Equity\n",
      "DatetimeIndex(['2010-12-31', '2011-01-03', '2011-01-04', '2011-01-05',\n",
      "               '2011-01-06', '2011-01-07', '2011-01-10', '2011-01-11',\n",
      "               '2011-01-12', '2011-01-13',\n",
      "               ...\n",
      "               '2017-06-02', '2017-06-05', '2017-06-06', '2017-06-07',\n",
      "               '2017-06-08', '2017-06-09', '2017-06-12', '2017-06-13',\n",
      "               '2017-06-14', '2017-06-15'],\n",
      "              dtype='datetime64[ns]', name='Date', length=1653, freq=None)\n",
      "DSY FP Equity\n",
      "DatetimeIndex(['2013-01-04', '2013-01-09'], dtype='datetime64[ns]', name='Date', freq=None)\n",
      "CAP FP Equity\n",
      "DatetimeIndex(['2013-03-08', '2013-03-11'], dtype='datetime64[ns]', name='Date', freq=None)\n",
      "GNFT FP Equity\n",
      "DatetimeIndex(['2013-01-04', '2013-01-09', '2013-02-06', '2013-02-11'], dtype='datetime64[ns]', name='Date', freq=None)\n",
      "AC FP Equity\n",
      "DatetimeIndex(['2013-04-05', '2013-04-08'], dtype='datetime64[ns]', name='Date', freq=None)\n",
      "SGO FP Equity\n",
      "DatetimeIndex(['2013-01-04', '2013-01-09'], dtype='datetime64[ns]', name='Date', freq=None)\n",
      "KN FP Equity\n",
      "DatetimeIndex(['2021-07-21', '2021-07-22', '2021-07-23', '2021-07-26',\n",
      "               '2021-07-27', '2021-07-28', '2021-07-29', '2021-07-30',\n",
      "               '2021-08-02', '2021-08-03', '2021-08-04', '2021-08-05',\n",
      "               '2021-08-06', '2021-08-09', '2021-08-10', '2021-08-11',\n",
      "               '2021-08-12', '2021-08-13', '2021-08-16', '2021-08-17',\n",
      "               '2021-08-18', '2021-08-19', '2021-08-20', '2021-08-23',\n",
      "               '2021-08-24', '2021-08-25', '2021-08-26', '2021-08-27',\n",
      "               '2021-08-30', '2021-08-31', '2021-09-01', '2021-09-02',\n",
      "               '2021-09-03', '2021-09-06', '2021-09-07'],\n",
      "              dtype='datetime64[ns]', name='Date', freq=None)\n",
      "EL FP Equity\n",
      "DatetimeIndex(['2013-02-06', '2013-02-11'], dtype='datetime64[ns]', name='Date', freq=None)\n",
      "MC FP Equity\n",
      "DatetimeIndex(['2018-02-05'], dtype='datetime64[ns]', name='Date', freq=None)\n",
      "EUCAR FP Equity\n",
      "DatetimeIndex(['2010-12-31', '2011-01-03', '2011-01-04', '2011-01-05',\n",
      "               '2011-01-06', '2011-01-07', '2011-01-10', '2011-01-11',\n",
      "               '2011-01-12', '2011-01-13',\n",
      "               ...\n",
      "               '2015-06-12', '2015-06-15', '2015-06-16', '2015-06-17',\n",
      "               '2015-06-18', '2015-06-19', '2015-06-22', '2015-06-23',\n",
      "               '2015-06-24', '2015-06-25'],\n",
      "              dtype='datetime64[ns]', name='Date', length=1146, freq=None)\n",
      "KER FP Equity\n",
      "DatetimeIndex(['2013-04-05', '2013-04-08'], dtype='datetime64[ns]', name='Date', freq=None)\n",
      "ENX FP Equity\n",
      "DatetimeIndex(['2010-12-31', '2011-01-03', '2011-01-04', '2011-01-05',\n",
      "               '2011-01-06', '2011-01-07', '2011-01-10', '2011-01-11',\n",
      "               '2011-01-12', '2011-01-13',\n",
      "               ...\n",
      "               '2014-06-06', '2014-06-09', '2014-06-10', '2014-06-11',\n",
      "               '2014-06-12', '2014-06-13', '2014-06-16', '2014-06-17',\n",
      "               '2014-06-18', '2014-06-19'],\n",
      "              dtype='datetime64[ns]', name='Date', length=887, freq=None)\n",
      "UG FP Equity\n",
      "DatetimeIndex(['2021-01-18', '2021-01-19', '2021-01-20', '2021-01-21',\n",
      "               '2021-01-22', '2021-01-25', '2021-01-26', '2021-01-27',\n",
      "               '2021-01-28', '2021-01-29',\n",
      "               ...\n",
      "               '2021-08-25', '2021-08-26', '2021-08-27', '2021-08-30',\n",
      "               '2021-08-31', '2021-09-01', '2021-09-02', '2021-09-03',\n",
      "               '2021-09-06', '2021-09-07'],\n",
      "              dtype='datetime64[ns]', name='Date', length=165, freq=None)\n",
      "SAF FP Equity\n",
      "DatetimeIndex(['2012-02-20', '2012-03-08'], dtype='datetime64[ns]', name='Date', freq=None)\n",
      "GTO NA Equity\n",
      "DatetimeIndex(['2019-05-29', '2019-05-30', '2019-05-31', '2019-06-03',\n",
      "               '2019-06-04', '2019-06-05', '2019-06-06', '2019-06-07',\n",
      "               '2019-06-10', '2019-06-11',\n",
      "               ...\n",
      "               '2021-08-25', '2021-08-26', '2021-08-27', '2021-08-30',\n",
      "               '2021-08-31', '2021-09-01', '2021-09-02', '2021-09-03',\n",
      "               '2021-09-06', '2021-09-07'],\n",
      "              dtype='datetime64[ns]', name='Date', length=585, freq=None)\n",
      "FNAC FP Equity\n",
      "DatetimeIndex(['2010-12-31', '2011-01-03', '2011-01-04', '2011-01-05',\n",
      "               '2011-01-06', '2011-01-07', '2011-01-10', '2011-01-11',\n",
      "               '2011-01-12', '2011-01-13',\n",
      "               ...\n",
      "               '2013-06-06', '2013-06-07', '2013-06-10', '2013-06-11',\n",
      "               '2013-06-12', '2013-06-13', '2013-06-14', '2013-06-17',\n",
      "               '2013-06-18', '2013-06-19'],\n",
      "              dtype='datetime64[ns]', name='Date', length=632, freq=None)\n",
      "AMUN FP Equity\n",
      "DatetimeIndex(['2010-12-31', '2011-01-03', '2011-01-04', '2011-01-05',\n",
      "               '2011-01-06', '2011-01-07', '2011-01-10', '2011-01-11',\n",
      "               '2011-01-12', '2011-01-13',\n",
      "               ...\n",
      "               '2015-10-28', '2015-10-29', '2015-10-30', '2015-11-02',\n",
      "               '2015-11-03', '2015-11-04', '2015-11-05', '2015-11-06',\n",
      "               '2015-11-09', '2015-11-10'],\n",
      "              dtype='datetime64[ns]', name='Date', length=1244, freq=None)\n",
      "SPIE FP Equity\n",
      "DatetimeIndex(['2010-12-31', '2011-01-03', '2011-01-04', '2011-01-05',\n",
      "               '2011-01-06', '2011-01-07', '2011-01-10', '2011-01-11',\n",
      "               '2011-01-12', '2011-01-13',\n",
      "               ...\n",
      "               '2015-05-27', '2015-05-28', '2015-05-29', '2015-06-01',\n",
      "               '2015-06-02', '2015-06-03', '2015-06-04', '2015-06-05',\n",
      "               '2015-06-08', '2015-06-09'],\n",
      "              dtype='datetime64[ns]', name='Date', length=1134, freq=None)\n",
      "ING FP Equity\n",
      "DatetimeIndex(['2013-01-04', '2013-01-09', '2020-11-19', '2020-11-20',\n",
      "               '2020-11-23', '2020-11-24', '2020-11-25', '2020-11-26',\n",
      "               '2020-11-27', '2020-11-30',\n",
      "               ...\n",
      "               '2021-08-25', '2021-08-26', '2021-08-27', '2021-08-30',\n",
      "               '2021-08-31', '2021-09-01', '2021-09-02', '2021-09-03',\n",
      "               '2021-09-06', '2021-09-07'],\n",
      "              dtype='datetime64[ns]', name='Date', length=207, freq=None)\n",
      "FTI FP Equity\n",
      "DatetimeIndex(['2010-12-31', '2011-01-03', '2011-01-04', '2011-01-05',\n",
      "               '2011-01-06', '2011-01-07', '2011-01-10', '2011-01-11',\n",
      "               '2011-01-12', '2011-01-13',\n",
      "               ...\n",
      "               '2017-01-03', '2017-01-04', '2017-01-05', '2017-01-06',\n",
      "               '2017-01-09', '2017-01-10', '2017-01-11', '2017-01-12',\n",
      "               '2017-01-13', '2017-01-16'],\n",
      "              dtype='datetime64[ns]', name='Date', length=1548, freq=None)\n",
      "GTT FP Equity\n",
      "DatetimeIndex(['2010-12-31', '2011-01-03', '2011-01-04', '2011-01-05',\n",
      "               '2011-01-06', '2011-01-07', '2011-01-10', '2011-01-11',\n",
      "               '2011-01-12', '2011-01-13',\n",
      "               ...\n",
      "               '2014-02-13', '2014-02-14', '2014-02-17', '2014-02-18',\n",
      "               '2014-02-19', '2014-02-20', '2014-02-21', '2014-02-24',\n",
      "               '2014-02-25', '2014-02-26'],\n",
      "              dtype='datetime64[ns]', name='Date', length=809, freq=None)\n",
      "ELIS FP Equity\n",
      "DatetimeIndex(['2010-12-31', '2011-01-03', '2011-01-04', '2011-01-05',\n",
      "               '2011-01-06', '2011-01-07', '2011-01-10', '2011-01-11',\n",
      "               '2011-01-12', '2011-01-13',\n",
      "               ...\n",
      "               '2015-01-29', '2015-01-30', '2015-02-02', '2015-02-03',\n",
      "               '2015-02-04', '2015-02-05', '2015-02-06', '2015-02-09',\n",
      "               '2015-02-10', '2015-02-11'],\n",
      "              dtype='datetime64[ns]', name='Date', length=1053, freq=None)\n",
      "COV FP Equity\n",
      "DatetimeIndex(['2015-03-23'], dtype='datetime64[ns]', name='Date', freq=None)\n",
      "ILD FP Equity\n",
      "DatetimeIndex(['2012-09-12', '2013-01-04', '2013-01-09'], dtype='datetime64[ns]', name='Date', freq=None)\n",
      "ALO FP Equity\n",
      "DatetimeIndex(['2013-02-06', '2013-02-11', '2013-03-08', '2013-03-11',\n",
      "               '2020-11-17', '2020-11-18', '2020-11-19'],\n",
      "              dtype='datetime64[ns]', name='Date', freq=None)\n",
      "ALT FP Equity\n",
      "DatetimeIndex(['2020-04-15', '2020-04-16', '2020-04-17', '2020-04-20',\n",
      "               '2020-04-21', '2020-04-22', '2020-04-23', '2020-04-24',\n",
      "               '2020-04-27', '2020-04-28',\n",
      "               ...\n",
      "               '2021-08-25', '2021-08-26', '2021-08-27', '2021-08-30',\n",
      "               '2021-08-31', '2021-09-01', '2021-09-02', '2021-09-03',\n",
      "               '2021-09-06', '2021-09-07'],\n",
      "              dtype='datetime64[ns]', name='Date', length=360, freq=None)\n",
      "ELIOR FP Equity\n",
      "DatetimeIndex(['2010-12-31', '2011-01-03', '2011-01-04', '2011-01-05',\n",
      "               '2011-01-06', '2011-01-07', '2011-01-10', '2011-01-11',\n",
      "               '2011-01-12', '2011-01-13',\n",
      "               ...\n",
      "               '2014-05-28', '2014-05-29', '2014-05-30', '2014-06-02',\n",
      "               '2014-06-03', '2014-06-04', '2014-06-05', '2014-06-06',\n",
      "               '2014-06-09', '2014-06-10'],\n",
      "              dtype='datetime64[ns]', name='Date', length=880, freq=None)\n",
      "DBV FP Equity\n",
      "DatetimeIndex(['2010-12-31', '2011-01-03', '2011-01-04', '2011-01-05',\n",
      "               '2011-01-06', '2011-01-07', '2011-01-10', '2011-01-11',\n",
      "               '2011-01-12', '2011-01-13',\n",
      "               ...\n",
      "               '2012-03-16', '2012-03-19', '2012-03-20', '2012-03-21',\n",
      "               '2012-03-22', '2012-03-23', '2012-03-26', '2012-03-27',\n",
      "               '2012-03-28', '2012-03-29'],\n",
      "              dtype='datetime64[ns]', name='Date', length=322, freq=None)\n",
      "ORP FP Equity\n",
      "DatetimeIndex(['2011-11-18', '2015-02-06', '2015-02-09', '2015-02-10',\n",
      "               '2015-02-11', '2015-02-12', '2015-02-13', '2015-02-16'],\n",
      "              dtype='datetime64[ns]', name='Date', freq=None)\n",
      "TKTT FP Equity\n",
      "DatetimeIndex(['2010-12-31', '2011-01-03', '2011-01-04', '2011-01-05',\n",
      "               '2011-01-06', '2011-01-07', '2011-01-10', '2011-01-11',\n",
      "               '2011-01-12', '2011-01-13',\n",
      "               ...\n",
      "               '2013-11-08', '2013-11-11', '2013-11-12', '2013-11-13',\n",
      "               '2013-11-14', '2013-11-15', '2013-11-18', '2013-11-19',\n",
      "               '2013-11-20', '2013-11-21'],\n",
      "              dtype='datetime64[ns]', name='Date', length=743, freq=None)\n",
      "APAM NA Equity\n",
      "DatetimeIndex(['2010-12-31', '2011-01-03', '2011-01-04', '2011-01-05',\n",
      "               '2011-01-06', '2011-01-07', '2011-01-10', '2011-01-11',\n",
      "               '2011-01-12', '2011-01-13', '2011-01-14', '2011-01-17',\n",
      "               '2011-01-18', '2011-01-19', '2011-01-20', '2011-01-21',\n",
      "               '2011-01-24', '2011-01-25'],\n",
      "              dtype='datetime64[ns]', name='Date', freq=None)\n",
      "LR FP Equity\n",
      "DatetimeIndex(['2012-03-08'], dtype='datetime64[ns]', name='Date', freq=None)\n",
      "ATO FP Equity\n",
      "DatetimeIndex(['2012-02-06', '2012-02-09'], dtype='datetime64[ns]', name='Date', freq=None)\n",
      "MDM FP Equity\n",
      "DatetimeIndex(['2010-12-31', '2011-01-03', '2011-01-04', '2011-01-05',\n",
      "               '2011-01-06', '2011-01-07', '2011-01-10', '2011-01-11',\n",
      "               '2011-01-12', '2011-01-13',\n",
      "               ...\n",
      "               '2016-05-13', '2016-05-16', '2016-05-17', '2016-05-18',\n",
      "               '2016-05-19', '2016-05-20', '2016-05-23', '2016-05-24',\n",
      "               '2016-05-25', '2016-05-26'],\n",
      "              dtype='datetime64[ns]', name='Date', length=1382, freq=None)\n",
      "AKE FP Equity\n",
      "DatetimeIndex(['2013-04-05', '2013-04-08'], dtype='datetime64[ns]', name='Date', freq=None)\n",
      "RI FP Equity\n",
      "DatetimeIndex(['2012-03-08'], dtype='datetime64[ns]', name='Date', freq=None)\n",
      "WLN FP Equity\n",
      "DatetimeIndex(['2010-12-31', '2011-01-03', '2011-01-04', '2011-01-05',\n",
      "               '2011-01-06', '2011-01-07', '2011-01-10', '2011-01-11',\n",
      "               '2011-01-12', '2011-01-13',\n",
      "               ...\n",
      "               '2014-06-13', '2014-06-16', '2014-06-17', '2014-06-18',\n",
      "               '2014-06-19', '2014-06-20', '2014-06-23', '2014-06-24',\n",
      "               '2014-06-25', '2014-06-26'],\n",
      "              dtype='datetime64[ns]', name='Date', length=892, freq=None)\n"
     ]
    },
    {
     "name": "stderr",
     "output_type": "stream",
     "text": [
      "\n"
     ]
    }
   ],
   "source": [
    "for ticker in tqdm(agg_mkt_cap_data.columns):\n",
    "    if agg_mkt_cap_data[ticker].isnull().values.any():\n",
    "        print(ticker)\n",
    "        nulls = agg_mkt_cap_data[ticker].isnull()\n",
    "        print(nulls[nulls == True].index)"
   ]
  },
  {
   "cell_type": "code",
   "execution_count": 10,
   "id": "e6c1a249",
   "metadata": {},
   "outputs": [],
   "source": [
    "agg_mkt_cap_data.fillna(value = 0.0, inplace = True)"
   ]
  },
  {
   "cell_type": "code",
   "execution_count": 11,
   "id": "dee9b945",
   "metadata": {},
   "outputs": [
    {
     "data": {
      "text/plain": [
       "False"
      ]
     },
     "execution_count": 11,
     "metadata": {},
     "output_type": "execute_result"
    }
   ],
   "source": [
    "agg_mkt_cap_data.isnull().values.any()"
   ]
  },
  {
   "cell_type": "markdown",
   "id": "7fe5ce62",
   "metadata": {},
   "source": [
    "Data preprocessing:"
   ]
  },
  {
   "cell_type": "code",
   "execution_count": 12,
   "id": "14cf930f",
   "metadata": {},
   "outputs": [],
   "source": [
    "top10comp=agg_mkt_cap_data.loc['2018-12-31'].sort_values(ascending=False).head(10)\n",
    "top10=list(top10comp.index.values) "
   ]
  },
  {
   "cell_type": "code",
   "execution_count": 13,
   "id": "52b7c85c",
   "metadata": {},
   "outputs": [],
   "source": [
    "mkt_2017_2018=agg_mkt_cap_data.loc['2017-01-01':'2018-12-31'][top10]"
   ]
  },
  {
   "cell_type": "code",
   "execution_count": 14,
   "id": "77ff7e35",
   "metadata": {},
   "outputs": [],
   "source": [
    "mkt_2019=agg_mkt_cap_data.loc['2019-01-01':'2019-12-31'][top10]"
   ]
  },
  {
   "cell_type": "code",
   "execution_count": 15,
   "id": "0d9a3e84",
   "metadata": {},
   "outputs": [],
   "source": [
    "price_2019=agg_price_data['2019-01-01':'2019-12-31'][top10]\n",
    "returns_2019 = price_2019.pct_change()"
   ]
  },
  {
   "cell_type": "code",
   "execution_count": 16,
   "id": "9a517b0e",
   "metadata": {},
   "outputs": [],
   "source": [
    "n=len(top10)"
   ]
  },
  {
   "cell_type": "code",
   "execution_count": null,
   "id": "6b12f003",
   "metadata": {},
   "outputs": [],
   "source": [
    "price_2017_2018=agg_price_data['2017-01-01':'2018-12-31'][top10]\n",
    "returns_2017_2018 = price_2017_2018.pct_change()"
   ]
  },
  {
   "cell_type": "code",
   "execution_count": null,
   "id": "254409dd",
   "metadata": {},
   "outputs": [],
   "source": [
    "var_cov_mat = returns_2017_2018.cov()"
   ]
  },
  {
   "cell_type": "markdown",
   "id": "f79632e0",
   "metadata": {},
   "source": [
    "Defining the class Strategy, which will be the ancestor of all the other classes. It cosists of methods used to estimate the wanted properties of our portfolios and the method used for plotting:"
   ]
  },
  {
   "cell_type": "code",
   "execution_count": 29,
   "id": "01024e53",
   "metadata": {},
   "outputs": [],
   "source": [
    "class Strategy:\n",
    "\n",
    "    def __init__(self, name, returns):\n",
    "        self.name = name\n",
    "        self.returns = returns\n",
    "        self.pnl = np.c_[np.array([100.]), 100.*np.cumprod(1.+returns.to_numpy()).reshape(1,-1)].flatten()\n",
    "\n",
    "    def volatility(self):\n",
    "        return np.std(self.returns)*np.sqrt(252)\n",
    "\n",
    "    def sharpe_ratio(self):\n",
    "        return np.mean(self.returns)*np.sqrt(252)/np.std(self.returns)\n",
    "\n",
    "    def max_dd(self):\n",
    "        return 1. - np.min(np.flip(np.minimum.accumulate(np.flip(self.pnl)))/self.pnl)\n",
    "\n",
    "    def max_dd_2(self):\n",
    "        return np.max(1. - self.pnl/np.maximum.accumulate(self.pnl))\n",
    "\n",
    "    def illustrate(self, colour):\n",
    "        plt.plot(pd.to_datetime(self.returns.index), self.pnl[1:], 'b', label = self.name + ' (vol: %.2f, Sharpe: %.2f, MDD: %.2f)'%\n",
    "                                                          (self.volatility(), self.sharpe_ratio(), self.max_dd()), color = colour)\n",
    "        plt.xlabel('Time')\n",
    "        plt.ylabel('PnL')\n",
    "        plt.legend(loc = 2, fontsize = 'small')\n",
    "        plt.tick_params(axis='x', rotation = 45)\n",
    "        plt.title(f'PnL of the strategies')\n",
    "        plt.grid(axis = 'x', linestyle = '--')\n",
    "        plt.tight_layout()"
   ]
  },
  {
   "cell_type": "markdown",
   "id": "03192bda",
   "metadata": {},
   "source": [
    "Defining the class resposible for creating the portfolio with equal weights:"
   ]
  },
  {
   "cell_type": "code",
   "execution_count": 30,
   "id": "7698dd38",
   "metadata": {},
   "outputs": [],
   "source": [
    "class EWP(Strategy):\n",
    "    def __init__(self, name, returns):\n",
    "        self.name = name\n",
    "        self.returns = returns\n",
    "        returns_EWP = np.sum(returns * (1 / len(returns.columns)), axis=1)\n",
    "        super().__init__(self.name, returns_EWP)"
   ]
  },
  {
   "cell_type": "code",
   "execution_count": 31,
   "id": "35855a6d",
   "metadata": {},
   "outputs": [],
   "source": [
    "\n",
    "Por1 = EWP('equally-weighted portfolio', returns_2019)"
   ]
  },
  {
   "cell_type": "markdown",
   "id": "6d165495",
   "metadata": {},
   "source": [
    "Defining the class responsible for creating the Markovitz minimal variance portfolio:"
   ]
  },
  {
   "cell_type": "code",
   "execution_count": 34,
   "id": "49269aa2",
   "metadata": {},
   "outputs": [],
   "source": [
    "class Markowitz(Strategy):\n",
    "    \n",
    "    def __init__(self, name, returns, cov):\n",
    "\n",
    "        self.name = name\n",
    "        self.returns = returns\n",
    "        self.cov = cov\n",
    "        w = self.min_var()\n",
    "        returns_Mark = np.sum(returns.apply(lambda x: x * w, axis = 1), axis = 1)\n",
    "        super().__init__(self.name, returns_Mark)\n",
    "\n",
    "    def min_var(self):\n",
    "        emp_var = self.cov\n",
    "\n",
    "        def port_var(weights):\n",
    "            port_var = np.sqrt(np.dot(weights.T, np.dot(emp_var, weights)) * 250)\n",
    "            return port_var\n",
    "\n",
    "        def weight_cons(weights):\n",
    "            return np.sum(weights) - 1\n",
    "        \n",
    "        bounds_lim = [(0, 1) for x in range(len(self.returns.columns))]\n",
    "        \n",
    "        init = [1/len(self.returns.columns) for i in range(len(self.returns.columns))]\n",
    "        \n",
    "        constraint = {'type': 'eq', 'fun': weight_cons}\n",
    "\n",
    "        optimal = minimize(fun=port_var,\n",
    "                        x0=init,\n",
    "                        bounds=bounds_lim,\n",
    "                        constraints=constraint,\n",
    "                        method='SLSQP'\n",
    "                        )\n",
    "        \n",
    "\n",
    "        return list(optimal['x'])"
   ]
  },
  {
   "cell_type": "code",
   "execution_count": 35,
   "id": "972221d8",
   "metadata": {},
   "outputs": [],
   "source": [
    "Por2 = Markowitz('Markovitz min var Portfolio', returns_2019, var_cov_mat)"
   ]
  },
  {
   "cell_type": "markdown",
   "id": "39d7b4b2",
   "metadata": {},
   "source": [
    "Defining the class responsible for creating the ERC portfolio:"
   ]
  },
  {
   "cell_type": "code",
   "execution_count": 37,
   "id": "a11faa05",
   "metadata": {},
   "outputs": [],
   "source": [
    "class ERC(Strategy):\n",
    "    \n",
    "    def __init__(self, name, returns, cov):\n",
    "\n",
    "        self.name = name\n",
    "        self.returns = returns\n",
    "        self.cov = cov\n",
    "        opt_w = self.opt()\n",
    "        returns_ERC = np.sum(returns.apply(lambda x: x * opt_w, axis = 1), axis = 1)\n",
    "        super().__init__(self.name, returns_ERC)\n",
    "\n",
    "\n",
    "    def min_f_ERC(self, weight):\n",
    "\n",
    "        cov = self.cov\n",
    "\n",
    "        Q = np.multiply((cov * weight.T), weight.T)\n",
    "        Q_2 = Q.to_numpy().ravel()\n",
    "        P_1 = np.tile(Q_2, (len(Q_2),1))\n",
    "        P_2 = P_1.T\n",
    "        end_comp = np.sum(np.square(P_1 - P_2))\n",
    "        return end_comp * 10000\n",
    "    \n",
    "\n",
    "    def weight_cons(self):\n",
    "        cons = ({'type': 'eq', 'fun': lambda weight: np.sum(weight) - 1.0},  \n",
    "        {'type': 'ineq', 'fun': lambda weight: weight}) \n",
    "        return cons  \n",
    "\n",
    "    def opt(self):\n",
    "        initial_guess = np.full(len(top10), 1/len(top10))\n",
    "        res = minimize(self.min_f_ERC, initial_guess, args=(), constraints=self.weight_cons(), method = \"SLSQP\", options = {'maxiter':1000, 'disp': True, 'ftol': 1e-100})\n",
    "        w_opt = list(res.x)\n",
    "        return w_opt"
   ]
  },
  {
   "cell_type": "code",
   "execution_count": 38,
   "id": "a88b75d5",
   "metadata": {},
   "outputs": [
    {
     "name": "stdout",
     "output_type": "stream",
     "text": [
      "Optimization terminated successfully    (Exit mode 0)\n",
      "            Current function value: 2.2184421305688578e-05\n",
      "            Iterations: 63\n",
      "            Function evaluations: 706\n",
      "            Gradient evaluations: 63\n"
     ]
    }
   ],
   "source": [
    "Por3 = ERC('equally risk portfolio', returns_2019, var_cov_mat)"
   ]
  },
  {
   "cell_type": "markdown",
   "id": "63ac02f8",
   "metadata": {},
   "source": [
    "Plotting the final results of our work:"
   ]
  },
  {
   "cell_type": "code",
   "execution_count": 39,
   "id": "965f6372",
   "metadata": {},
   "outputs": [
    {
     "name": "stderr",
     "output_type": "stream",
     "text": [
      "C:\\Users\\kacpe\\AppData\\Local\\Temp\\ipykernel_14852\\4159170135.py:21: UserWarning: color is redundantly defined by the 'color' keyword argument and the fmt string \"b\" (-> color=(0.0, 0.0, 1.0, 1)). The keyword argument will take precedence.\n",
      "  plt.plot(pd.to_datetime(self.returns.index), self.pnl[1:], 'b', label = self.name + ' (vol: %.2f, Sharpe: %.2f, MDD: %.2f)'%\n",
      "C:\\Users\\kacpe\\AppData\\Local\\Temp\\ipykernel_14852\\4159170135.py:21: UserWarning: color is redundantly defined by the 'color' keyword argument and the fmt string \"b\" (-> color=(0.0, 0.0, 1.0, 1)). The keyword argument will take precedence.\n",
      "  plt.plot(pd.to_datetime(self.returns.index), self.pnl[1:], 'b', label = self.name + ' (vol: %.2f, Sharpe: %.2f, MDD: %.2f)'%\n",
      "C:\\Users\\kacpe\\AppData\\Local\\Temp\\ipykernel_14852\\4159170135.py:29: UserWarning: The figure layout has changed to tight\n",
      "  plt.tight_layout()\n",
      "C:\\Users\\kacpe\\AppData\\Local\\Temp\\ipykernel_14852\\4159170135.py:21: UserWarning: color is redundantly defined by the 'color' keyword argument and the fmt string \"b\" (-> color=(0.0, 0.0, 1.0, 1)). The keyword argument will take precedence.\n",
      "  plt.plot(pd.to_datetime(self.returns.index), self.pnl[1:], 'b', label = self.name + ' (vol: %.2f, Sharpe: %.2f, MDD: %.2f)'%\n",
      "C:\\Users\\kacpe\\AppData\\Local\\Temp\\ipykernel_14852\\4159170135.py:29: UserWarning: The figure layout has changed to tight\n",
      "  plt.tight_layout()\n"
     ]
    },
    {
     "data": {
      "image/png": "[encoded data removed]",
      "text/plain": [
       "<Figure size 640x480 with 1 Axes>"
      ]
     },
     "metadata": {},
     "output_type": "display_data"
    }
   ],
   "source": [
    "Por1.illustrate('olivedrab')\n",
    "Por2.illustrate('Maroon')\n",
    "Por3.illustrate('fuchsia')"
   ]
  }
 ],
 "metadata": {
  "kernelspec": {
   "display_name": "Python 3 (ipykernel)",
   "language": "python",
   "name": "python3"
  },
  "language_info": {
   "codemirror_mode": {
    "name": "ipython",
    "version": 3
   },
   "file_extension": ".py",
   "mimetype": "text/x-python",
   "name": "python",
   "nbconvert_exporter": "python",
   "pygments_lexer": "ipython3",
   "version": "3.11.5"
  }
 },
 "nbformat": 4,
 "nbformat_minor": 5
}
